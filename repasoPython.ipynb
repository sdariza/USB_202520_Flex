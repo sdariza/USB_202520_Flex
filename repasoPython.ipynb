{
  "nbformat": 4,
  "nbformat_minor": 0,
  "metadata": {
    "colab": {
      "provenance": [],
      "authorship_tag": "ABX9TyPAwNvdrdCCYu1B6HJq45/w",
      "include_colab_link": true
    },
    "kernelspec": {
      "name": "python3",
      "display_name": "Python 3"
    },
    "language_info": {
      "name": "python"
    }
  },
  "cells": [
    {
      "cell_type": "markdown",
      "metadata": {
        "id": "view-in-github",
        "colab_type": "text"
      },
      "source": [
        "<a href=\"https://colab.research.google.com/github/sdariza/USB_202520_Flex/blob/main/repasoPython.ipynb\" target=\"_parent\"><img src=\"https://colab.research.google.com/assets/colab-badge.svg\" alt=\"Open In Colab\"/></a>"
      ]
    },
    {
      "cell_type": "code",
      "execution_count": null,
      "metadata": {
        "colab": {
          "base_uri": "https://localhost:8080/"
        },
        "id": "sp7Cy6mE8clA",
        "outputId": "c53eb237-aff9-4829-f0a2-9989f4fa3c42"
      },
      "outputs": [
        {
          "output_type": "stream",
          "name": "stdout",
          "text": [
            "el valor de x es : 10\n"
          ]
        }
      ],
      "source": [
        "x = 10\n",
        "print(f\"el valor de x es : {x}\")"
      ]
    },
    {
      "cell_type": "code",
      "source": [
        "print(list(range(0,11)))"
      ],
      "metadata": {
        "colab": {
          "base_uri": "https://localhost:8080/"
        },
        "id": "4SZYvA2eFTZF",
        "outputId": "b674258f-efc7-436f-9c8b-4602e7a2435d"
      },
      "execution_count": null,
      "outputs": [
        {
          "output_type": "stream",
          "name": "stdout",
          "text": [
            "[0, 1, 2, 3, 4, 5, 6, 7, 8, 9, 10]\n"
          ]
        }
      ]
    },
    {
      "cell_type": "code",
      "source": [
        "for idx, value in enumerate(range(10,20)):\n",
        "  print(idx, value)"
      ],
      "metadata": {
        "colab": {
          "base_uri": "https://localhost:8080/"
        },
        "id": "I05LFodTGW3V",
        "outputId": "3b47611a-a7a1-4a34-afa6-b9266b7a2391"
      },
      "execution_count": null,
      "outputs": [
        {
          "output_type": "stream",
          "name": "stdout",
          "text": [
            "0 10\n",
            "1 11\n",
            "2 12\n",
            "3 13\n",
            "4 14\n",
            "5 15\n",
            "6 16\n",
            "7 17\n",
            "8 18\n",
            "9 19\n"
          ]
        }
      ]
    },
    {
      "cell_type": "code",
      "source": [
        "i = 0\n",
        "while i < 10:\n",
        "  print(i)\n",
        "  i = i + 1"
      ],
      "metadata": {
        "colab": {
          "base_uri": "https://localhost:8080/"
        },
        "id": "Mda1AIAGHRnz",
        "outputId": "b8b8b489-7a4e-4797-f67e-d1dd8f13c68f"
      },
      "execution_count": null,
      "outputs": [
        {
          "output_type": "stream",
          "name": "stdout",
          "text": [
            "0\n",
            "1\n",
            "2\n",
            "3\n",
            "4\n",
            "5\n",
            "6\n",
            "7\n",
            "8\n",
            "9\n"
          ]
        }
      ]
    },
    {
      "cell_type": "code",
      "source": [
        "i = 56\n",
        "if i % 2 == 0:\n",
        "  print(\"se cumplio el if\")\n",
        "elif i > 10:\n",
        "  print(\"es mayor a 10\")\n",
        "else:\n",
        "  print(\"se fue al else\")"
      ],
      "metadata": {
        "colab": {
          "base_uri": "https://localhost:8080/"
        },
        "id": "094yw7U0Hp6P",
        "outputId": "b3fabdbb-aac8-4f0e-9c09-236e42e1d638"
      },
      "execution_count": null,
      "outputs": [
        {
          "output_type": "stream",
          "name": "stdout",
          "text": [
            "se cumplio el if\n"
          ]
        }
      ]
    },
    {
      "cell_type": "code",
      "source": [
        "list_1 = [\"1\", 2, \"3sad\", \"jsdjshd\"]\n",
        "print(list_1)"
      ],
      "metadata": {
        "colab": {
          "base_uri": "https://localhost:8080/"
        },
        "id": "AVY3RAmtIxiG",
        "outputId": "123b547a-f518-46a8-b146-5c48bd9d06ea"
      },
      "execution_count": null,
      "outputs": [
        {
          "output_type": "stream",
          "name": "stdout",
          "text": [
            "['1', 2, '3sad', 'jsdjshd']\n"
          ]
        }
      ]
    },
    {
      "cell_type": "code",
      "source": [
        "for elem in list_1:\n",
        "  print(elem, end=\" | \")"
      ],
      "metadata": {
        "colab": {
          "base_uri": "https://localhost:8080/"
        },
        "id": "NZwelB52KFEk",
        "outputId": "85b46443-c170-42e6-a8e6-c4617af0e498"
      },
      "execution_count": null,
      "outputs": [
        {
          "output_type": "stream",
          "name": "stdout",
          "text": [
            "1 | 2 | 3sad | jsdjshd | "
          ]
        }
      ]
    },
    {
      "cell_type": "code",
      "source": [
        "dict_1 = {'key1':1, \"key2\": \"dongo\", \"key3\": {\"key2\": 23}}\n",
        "print(dict_1)"
      ],
      "metadata": {
        "colab": {
          "base_uri": "https://localhost:8080/"
        },
        "id": "BkjLuZAxJPe7",
        "outputId": "a7e59106-10e3-42d2-faa5-6594992d8e44"
      },
      "execution_count": null,
      "outputs": [
        {
          "output_type": "stream",
          "name": "stdout",
          "text": [
            "{'key1': 1, 'key2': 'dongo', 'key3': {'key2': 23}}\n"
          ]
        }
      ]
    },
    {
      "cell_type": "code",
      "source": [
        "for key, value in dict_1.items():\n",
        "  print(key, value)"
      ],
      "metadata": {
        "colab": {
          "base_uri": "https://localhost:8080/"
        },
        "id": "75m8TlAYKScW",
        "outputId": "1d30388d-a2f9-4402-f61b-51e04dcd1e3f"
      },
      "execution_count": null,
      "outputs": [
        {
          "output_type": "stream",
          "name": "stdout",
          "text": [
            "key1 1\n",
            "key2 dongo\n",
            "key3 {'key2': 23}\n"
          ]
        }
      ]
    },
    {
      "cell_type": "code",
      "source": [
        "[elem for elem in list_1 if isinstance(elem, int)]"
      ],
      "metadata": {
        "colab": {
          "base_uri": "https://localhost:8080/"
        },
        "id": "lVoLXzjvKm3D",
        "outputId": "835697bb-f9a9-47d9-9f0e-801f7da2153b"
      },
      "execution_count": null,
      "outputs": [
        {
          "output_type": "execute_result",
          "data": {
            "text/plain": [
              "[2]"
            ]
          },
          "metadata": {},
          "execution_count": 45
        }
      ]
    },
    {
      "cell_type": "code",
      "source": [],
      "metadata": {
        "id": "PjLYvixIQLhd"
      },
      "execution_count": null,
      "outputs": []
    }
  ]
}